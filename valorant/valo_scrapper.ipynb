{
 "cells": [
  {
   "cell_type": "code",
   "execution_count": 10,
   "metadata": {},
   "outputs": [],
   "source": [
    "import requests\n",
    "import json\n",
    "import concurrent\n",
    "\n",
    "\n",
    "API_KEY = '1783319260d70f84da21868ce0fd6207'"
   ]
  },
  {
   "cell_type": "code",
   "execution_count": 11,
   "metadata": {},
   "outputs": [],
   "source": [
    "def write(response):\n",
    "    with open('json_dir/lfg.json', 'w') as json_file:\n",
    "        json_file.write(response.text)"
   ]
  },
  {
   "cell_type": "code",
   "execution_count": 12,
   "metadata": {},
   "outputs": [],
   "source": [
    "def do_scrap(link):\n",
    "    region = 'EU'\n",
    "    #region = 'any'\n",
    "    #link = f'https://api.tracker.gg/api/v1/valorant/lfg/search?region{region}&playlist=competitive&skill=any'\n",
    "    #api_link = f\"http://api.scraperapi.com?api_key={API_KEY}&url={link}\"\n",
    "    payload = {'api_key': API_KEY, 'url': link, 'keep_headers': 'true'}\n",
    "    head = {\n",
    "        'authority': 'api.tracker.gg',\n",
    "        'method': 'GET',\n",
    "        'path': '/api/v1/valorant/lfg/search?region=any&playlist=competitive&skill=any',\n",
    "        'scheme': 'https',\n",
    "        'accept': 'text/html,application/xhtml+xml,application/xml;q=0.9,image/avif,image/webp,image/apng,*/*;q=0.8,application/signed-exchange;v=b3;q=0.9',\n",
    "        'accept-encoding': 'gzip, deflate, br',\n",
    "        'accept-language': 'nb-NO,nb;q=0.9,no;q=0.8,en-US;q=0.7,en;q=0.6,ru;q=0.5',\n",
    "        'cache-control': 'max-age=0',\n",
    "        'cookie': '__cflb=02DiuFQAkRrzD1P1mdkJhfdTc9AmTWwYkL5dhc6BaWz7E; X-Mapping-Server=s14; __cf_bm=eCW52EohIqvzfugOyKvNvo4spvffbOwnBy5YZBvh4gQ-1653777883-0-AYz5PvgOpqpL7/UCjWN7/dokINYUw/EV1D4T6eY5n9YecMF2lY0M4TWWdDyySEalQ3lzxua3IYwD9KUjzZtmFdM=',\n",
    "        'sec-ch-ua': 'Not A;Brand\";v=\"99\", \"Chromium\";v=\"101\", \"Google Chrome\";v=\"101',\n",
    "        'sec-ch-ua-mobile': '?0',\n",
    "        'sec-ch-ua-platform': 'macOS',\n",
    "        'sec-fetch-dest': 'document',\n",
    "        'sec-fetch-mode': 'navigate',\n",
    "        'sec-fetch-site': 'none',\n",
    "        'sec-fetch-user': '?1',\n",
    "        'upgrade-insecure-requests': '1',\n",
    "        'user-agent': 'Mozilla/5.0 (Macintosh; Intel Mac OS X 10_15_7) AppleWebKit/537.36 (KHTML, like Gecko) Chrome/101.0.0.0 Safari/537.36'\n",
    "        }\n",
    "    count = 0\n",
    "    while True:\n",
    "        response = requests.get('http://api.scraperapi.com', params=payload, headers=head)\n",
    "        if response.status_code == 200:\n",
    "            print(f'Success:',response.status_code)\n",
    "            return response\n",
    "        else:\n",
    "            print(f'Failure:',response.status_code)\n",
    "            count += 1\n",
    "            if count >= 2:\n",
    "                return None\n",
    "            continue\n",
    "#200\tSuccessful response. - ScraperAPI\n",
    "#400    Bad request is sent when the server cannot understand the request sent by the client. - Requests\n",
    "#401    Unauthorized is sent whenever fulfilling the requests requires supplying valid credentials. - Requests\n",
    "#403    Forbidden means that the server understood the request but will not fulfill it. - Requests\n",
    "#404\tPage requested does not exist. - ScraperAPI\n",
    "#410\tPage requested is no longer available. - ScraperAPI\n",
    "#500\tAfter retrying for 60 seconds, the API was unable to receive a successful response. - ScraperAPI\n",
    "#429\tYou are sending requests too fast, and exceeding your concurrency limit. - ScraperAPI\n",
    "#403\tYou have used up all your API credits. - ScraperAPI"
   ]
  },
  {
   "cell_type": "code",
   "execution_count": 13,
   "metadata": {},
   "outputs": [],
   "source": [
    "def get_info():\n",
    "    file = open('json_dir/lfg.json')\n",
    "    data = json.load(file)['data']['entries']\n",
    "    \n",
    "    player_dictionary = {}\n",
    "    for person in data:\n",
    "        \n",
    "        # Random valotrack account info\n",
    "        userinfo = person['userInfo']\n",
    "        \n",
    "        userinfo_id = userinfo['userId']\n",
    "        is_premium = userinfo['isPremium']\n",
    "        is_verified = userinfo['isVerified']\n",
    "        is_Influencer = userinfo['isInfluencer']\n",
    "        region = userinfo['countryCode']\n",
    "        is_suspicious = userinfo['isSuspicious']\n",
    "        \n",
    "        # Valorant info\n",
    "        platform_info = person['platformInfo']\n",
    "        \n",
    "        valo_name = platform_info['platformUserHandle']\n",
    "        avatar_url = platform_info['avatarUrl']\n",
    "        \n",
    "        # User bio/info\n",
    "        bio = person['bio']\n",
    "        \n",
    "        has_mic = bio['hasMicrophone']\n",
    "        playstyle = bio['playStyle']\n",
    "        about = bio['about']\n",
    "        \n",
    "        # Valo account stats\n",
    "        valo = person['profileSummary']\n",
    "        \n",
    "        rank_tier = bio['statsJson'].split(' ')[1].replace(',', '')\n",
    "        rank = valo['featureStat']['value']\n",
    "        winrate = valo['stats']['matchesWinPct']['value']\n",
    "        kda = valo['stats']['kDRatio']['value']\n",
    "        dmg_per_round = valo['stats']['damagePerRound']['value']\n",
    "\n",
    "        # Get links to different medias\n",
    "        social_accounts = userinfo['socialAccounts']\n",
    "        socials = []\n",
    "        for social in social_accounts:\n",
    "            platform = social['platformSlug']\n",
    "            user_handle = social['platformUserHandle']\n",
    "            socials.append([platform, user_handle])\n",
    "            \n",
    "        player_dictionary[userinfo_id] = [valo_name,\n",
    "                                          rank, rank_tier,\n",
    "                                          winrate, kda,\n",
    "                                          dmg_per_round,\n",
    "                                          region,\n",
    "                                          socials,\n",
    "                                          has_mic,\n",
    "                                          playstyle,\n",
    "                                          about,\n",
    "                                          is_verified,\n",
    "                                          is_premium,\n",
    "                                          is_Influencer,\n",
    "                                          is_suspicious,\n",
    "                                          avatar_url,\n",
    "                                          ]\n",
    "    return player_dictionary"
   ]
  },
  {
   "cell_type": "code",
   "execution_count": 14,
   "metadata": {},
   "outputs": [],
   "source": [
    "region = 'EU'\n",
    "    #region = 'any'\n",
    "links = [f'https://api.tracker.gg/api/v1/valorant/lfg/search?region{region}&playlist=competitive&skill=any',\n",
    "         f'https://api.tracker.gg/api/v1/valorant/lfg/search?region{region}&playlist=competitive&skill=any',\n",
    "         f'https://api.tracker.gg/api/v1/valorant/lfg/search?region{region}&playlist=competitive&skill=any',\n",
    "         f'https://api.tracker.gg/api/v1/valorant/lfg/search?region{region}&playlist=competitive&skill=any',\n",
    "         f'https://api.tracker.gg/api/v1/valorant/lfg/search?region{region}&playlist=competitive&skill=any',\n",
    "         ]\n"
   ]
  },
  {
   "cell_type": "code",
   "execution_count": 15,
   "metadata": {},
   "outputs": [],
   "source": [
    "def all_in_one(links):\n",
    "    write(do_scrap(links))\n",
    "    get_info() "
   ]
  },
  {
   "cell_type": "code",
   "execution_count": 16,
   "metadata": {},
   "outputs": [
    {
     "name": "stdout",
     "output_type": "stream",
     "text": [
      "Failure: 400\n",
      "Failure: 400\n"
     ]
    },
    {
     "ename": "AttributeError",
     "evalue": "'NoneType' object has no attribute 'text'",
     "output_type": "error",
     "traceback": [
      "\u001b[0;31m---------------------------------------------------------------------------\u001b[0m",
      "\u001b[0;31mAttributeError\u001b[0m                            Traceback (most recent call last)",
      "\u001b[1;32m/Users/tareklein/Documents/Inf-Kurs/INF-Eksamen/precode/Webscrapper/valorant/valo_scrapper.ipynb Cell 7'\u001b[0m in \u001b[0;36m<cell line: 1>\u001b[0;34m()\u001b[0m\n\u001b[0;32m----> <a href='vscode-notebook-cell:/Users/tareklein/Documents/Inf-Kurs/INF-Eksamen/precode/Webscrapper/valorant/valo_scrapper.ipynb#ch0000007?line=0'>1</a>\u001b[0m all_in_one(links)\n",
      "\u001b[1;32m/Users/tareklein/Documents/Inf-Kurs/INF-Eksamen/precode/Webscrapper/valorant/valo_scrapper.ipynb Cell 6'\u001b[0m in \u001b[0;36mall_in_one\u001b[0;34m(links)\u001b[0m\n\u001b[1;32m      <a href='vscode-notebook-cell:/Users/tareklein/Documents/Inf-Kurs/INF-Eksamen/precode/Webscrapper/valorant/valo_scrapper.ipynb#ch0000005?line=0'>1</a>\u001b[0m \u001b[39mdef\u001b[39;00m \u001b[39mall_in_one\u001b[39m(links):\n\u001b[0;32m----> <a href='vscode-notebook-cell:/Users/tareklein/Documents/Inf-Kurs/INF-Eksamen/precode/Webscrapper/valorant/valo_scrapper.ipynb#ch0000005?line=1'>2</a>\u001b[0m     write(do_scrap(links))\n\u001b[1;32m      <a href='vscode-notebook-cell:/Users/tareklein/Documents/Inf-Kurs/INF-Eksamen/precode/Webscrapper/valorant/valo_scrapper.ipynb#ch0000005?line=2'>3</a>\u001b[0m     get_info()\n",
      "\u001b[1;32m/Users/tareklein/Documents/Inf-Kurs/INF-Eksamen/precode/Webscrapper/valorant/valo_scrapper.ipynb Cell 2'\u001b[0m in \u001b[0;36mwrite\u001b[0;34m(response)\u001b[0m\n\u001b[1;32m      <a href='vscode-notebook-cell:/Users/tareklein/Documents/Inf-Kurs/INF-Eksamen/precode/Webscrapper/valorant/valo_scrapper.ipynb#ch0000001?line=0'>1</a>\u001b[0m \u001b[39mdef\u001b[39;00m \u001b[39mwrite\u001b[39m(response):\n\u001b[1;32m      <a href='vscode-notebook-cell:/Users/tareklein/Documents/Inf-Kurs/INF-Eksamen/precode/Webscrapper/valorant/valo_scrapper.ipynb#ch0000001?line=1'>2</a>\u001b[0m     \u001b[39mwith\u001b[39;00m \u001b[39mopen\u001b[39m(\u001b[39m'\u001b[39m\u001b[39mjson_dir/lfg.json\u001b[39m\u001b[39m'\u001b[39m, \u001b[39m'\u001b[39m\u001b[39mw\u001b[39m\u001b[39m'\u001b[39m) \u001b[39mas\u001b[39;00m json_file:\n\u001b[0;32m----> <a href='vscode-notebook-cell:/Users/tareklein/Documents/Inf-Kurs/INF-Eksamen/precode/Webscrapper/valorant/valo_scrapper.ipynb#ch0000001?line=2'>3</a>\u001b[0m         json_file\u001b[39m.\u001b[39mwrite(response\u001b[39m.\u001b[39;49mtext)\n",
      "\u001b[0;31mAttributeError\u001b[0m: 'NoneType' object has no attribute 'text'"
     ]
    }
   ],
   "source": [
    "all_in_one(links)"
   ]
  },
  {
   "cell_type": "code",
   "execution_count": null,
   "metadata": {},
   "outputs": [],
   "source": [
    "# with concurrent.futures.ThreadPoolExecutor(max_workers=5) as executor:\n",
    "#     executor.map(all_in_one, links)\n"
   ]
  }
 ],
 "metadata": {
  "interpreter": {
   "hash": "b0fa6594d8f4cbf19f97940f81e996739fb7646882a419484c72d19e05852a7e"
  },
  "kernelspec": {
   "display_name": "Python 3.9.12 64-bit",
   "language": "python",
   "name": "python3"
  },
  "language_info": {
   "codemirror_mode": {
    "name": "ipython",
    "version": 3
   },
   "file_extension": ".py",
   "mimetype": "text/x-python",
   "name": "python",
   "nbconvert_exporter": "python",
   "pygments_lexer": "ipython3",
   "version": "3.9.12"
  },
  "orig_nbformat": 4
 },
 "nbformat": 4,
 "nbformat_minor": 2
}
