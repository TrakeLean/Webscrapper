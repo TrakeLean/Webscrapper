{
 "cells": [
  {
   "cell_type": "code",
   "execution_count": null,
   "metadata": {},
   "outputs": [],
   "source": [
    "from urllib.error import HTTPError, URLError\n",
    "from urllib.request import urlopen\n",
    "from bs4 import BeautifulSoup\n",
    "import pandas as pd\n",
    "import os\n",
    "import os.path"
   ]
  },
  {
   "cell_type": "code",
   "execution_count": null,
   "metadata": {},
   "outputs": [],
   "source": [
    "def scrap(link, category, tries):\n",
    "    if 'https://' in link:\n",
    "        link = link.replace('https://', '')\n",
    "    # Save page\n",
    "    key = '1783319260d70f84da21868ce0fd6207'\n",
    "    api_link = f\"http://api.scraperapi.com?api_key={key}&url={link}\"\n",
    "    path = f'excel_dir/{category}.csv'\n",
    "    if not os.path.exists(path):\n",
    "        while True:\n",
    "            try:\n",
    "                page=urlopen(api_link)\n",
    "                return page\n",
    "            except HTTPError:\n",
    "                tries+=1\n",
    "                print(f'\\tScrap: Failed - Attempt: {tries}')\n",
    "                if tries >= 5:\n",
    "                    print(f'\\tScrap: Failed!')\n",
    "                    break\n",
    "                scrap(link, category, tries)\n",
    "                pass\n",
    "    else:\n",
    "        print(f'\\t{category} has already been scrapped')\n",
    "        return None"
   ]
  },
  {
   "cell_type": "code",
   "execution_count": null,
   "metadata": {},
   "outputs": [],
   "source": [
    "def write(page, category):\n",
    "    # Read data on page\n",
    "    html_bytes=page.read()\n",
    "    # Decode data from page\n",
    "    html=html_bytes.decode(\"utf-8\")\n",
    "    # Write html file from data scrapped\n",
    "    with open(f\"html_dir/{category}.html\",\"w\",encoding=\"utf-8\")as html_file:\n",
    "        html_file.write(html)"
   ]
  },
  {
   "cell_type": "code",
   "execution_count": null,
   "metadata": {},
   "outputs": [],
   "source": [
    "def read(category):    \n",
    "    # Read html file from scrapped data\n",
    "    with open(f\"html_dir/{category}.html\",\"r\",encoding='utf-8')as html_file:\n",
    "        output=html_file.read()\n",
    "        \n",
    "        soup = BeautifulSoup(output, 'lxml')\n",
    "        if category == 'skjermer' or category == 'skjermkort':\n",
    "            products = soup.find_all('div', class_ = 'product-list-item subscription-price-visible')\n",
    "        else:\n",
    "            products = soup.find_all('div', class_ = 'product-list-item')\n",
    "            \n",
    "        product_dict = {}\n",
    "        for product in products:\n",
    "            link = str('komplett.no' + product.a['href'])\n",
    "            image = str('komplett.no/img/p/800/' + product.a['href'].split('/')[2] + '.jpg')\n",
    "            sale = None\n",
    "            price_now = product.find('span', class_= 'product-price-now').text\n",
    "            price_now = int(''.join(char for char in price_now if char.isalnum()))\n",
    "            price_before = product.find('div', class_= 'product-price-before')\n",
    "            if price_before != None:\n",
    "                price_before = product.find('div', class_= 'product-price-before').text.replace('Før', '').replace(',-', '').strip()\n",
    "                price_before = int(''.join(char for char in price_before if char.isalnum()))\n",
    "                sale = True\n",
    "            \n",
    "            name = product.h2.text.replace('å', 'aa').replace('ø', 'o')\n",
    "            stats = product.p.text.replace(',','').split()\n",
    "            #available = product.find('span', class_='stockstatus-stock-details').text.replace('å', 'aa').replace('ø', 'o').split(' ')[0]\n",
    "            try:\n",
    "                available = product.find('span', class_='stockstatus-stock-details').text.replace('å', 'aa').replace('ø', 'o').split(' ')[0].replace('+', '')\n",
    "                if available == 'Ikke' or available == 'Bestillingsvare.':\n",
    "                    available = 0\n",
    "            except AttributeError as error:\n",
    "                    available = error\n",
    "                    \n",
    "            itemnumber = product.find('div', class_='product-data').text.replace(' ', '').replace('\\n', '').split('/')[0].split(':')[1]\n",
    "\n",
    "            product_dict[itemnumber] = [name, price_now, price_before, sale, available, stats, image, link, 'komplett', category]       \n",
    "        \n",
    "        return product_dict"
   ]
  },
  {
   "cell_type": "code",
   "execution_count": null,
   "metadata": {},
   "outputs": [],
   "source": [
    "links = [\n",
    "        'https://www.komplett.no/category/12831/hvitevarer/stekeovner?nlevel=10639%C2%A712831&hits=48',\n",
    "        'https://www.komplett.no/category/12839/hvitevarer/kjoeleskap?',\n",
    "        'https://www.komplett.no/category/21169/mobiler-klokker/smartklokker?nlevel=10444%C2%A721169&hits=120',\n",
    "        'https://www.komplett.no/category/21064/mobiler-klokker/mobiltelefoner?nlevel=10444%C2%A721064&hits=216',\n",
    "        'https://www.komplett.no/category/10088/datautstyr/lagring/harddiskerssd?nlevel=10000%C2%A728001%C2%A710088&hits=288',\n",
    "        'https://www.komplett.no/category/12840/hvitevarer/frysere',\n",
    "        'https://www.komplett.no/category/12821/hvitevarer/toerketromler',\n",
    "        'https://www.komplett.no/category/753/hvitevarer/mikroboelgeovner?',\n",
    "        'https://www.komplett.no/category/12824/hvitevarer/oppvaskmaskiner?nlevel=10639%C2%A712824&hits=48',\n",
    "        'https://www.komplett.no/category/11157/tv-lyd-bilde/tv-video/tv-er?nlevel=10719%C2%A730000%C2%A711157&hits=240',\n",
    "        'https://www.komplett.no/category/11158/datautstyr/skjermer/skjermer?nlevel=10000%C2%A710392%C2%A711158&hits=264',\n",
    "        'https://www.komplett.no/category/21635/gaming/gaming-utstyr/gaming-tastatur?nlevel=10431%C2%A721603%C2%A721635&hits=168',\n",
    "        'https://www.komplett.no/category/199889/hjem-fritid/stoevsugere-rengjoering?nlevel=10560%C2%A7199889&hits=120',\n",
    "        'https://www.komplett.no/category/21605/gaming/gaming-utstyr/gaming-mus?nlevel=10431%C2%A721603%C2%A721605&hits=168',\n",
    "        'https://www.komplett.no/category/21640/gaming/gaming-utstyr/gaming-headset?nlevel=10431%C2%A721603%C2%A721640&hits=192',\n",
    "        'https://www.komplett.no/category/21607/gaming/gaming-utstyr/gaming-musematte?nlevel=10431%C2%A721603%C2%A721607&hits=72',\n",
    "        'https://www.komplett.no/category/21650/gaming/gaming-utstyr/spillkontrollere?hits=120',\n",
    "        'https://www.komplett.no/category/11204/datautstyr/pc-komponenter/prosessorer?nlevel=10000%C2%A728003%C2%A711204&hits=144',\n",
    "        'https://www.komplett.no/category/10111/datautstyr/pc-komponenter/hovedkort?nlevel=10000%C2%A728003%C2%A710111&hits=240',\n",
    "        'https://www.komplett.no/category/10412/datautstyr/pc-komponenter/skjermkort?nlevel=10000%C2%A728003%C2%A710412&hits=360',\n",
    "        ]"
   ]
  },
  {
   "cell_type": "code",
   "execution_count": null,
   "metadata": {},
   "outputs": [],
   "source": [
    "def komplett_scrap(links):\n",
    "\n",
    "    # Check if we have the correct directories\n",
    "    if not os.path.exists('html_dir'):\n",
    "        os.mkdir('html_dir')\n",
    "    if not os.path.exists('excel_dir'):\n",
    "        os.mkdir('excel_dir')\n",
    "\n",
    "    for link in links:\n",
    "        tries = 0\n",
    "        \n",
    "        # Category on the item in our current link\n",
    "        category = link.split('?')[0].split('/')[-1].replace('-','_')\n",
    "        print(category)\n",
    "        # Write down the data we get from scrapping\n",
    "        scrapped = scrap(link, category, tries)\n",
    "        if scrapped != None:\n",
    "            print('\\tScrap: Success!')\n",
    "            print('\\tWriting...')\n",
    "            write(scrapped, category)\n",
    "            print('\\tReading...')\n",
    "            current = read(category)\n",
    "            # Used for columns in excel\n",
    "            col = ['name', 'price_now', 'price_before', 'sale', 'available', 'stats', 'image', 'link', 'site', 'category']\n",
    "            # Create dataframe\n",
    "            df = pd.DataFrame(current.values(), columns = col)\n",
    "            #df = df.loc[df['sale']==True]\n",
    "            # Convert dataframe to excel file\n",
    "            df.to_csv(f'excel_dir/{category}.csv')\n",
    "            print(f'\\tScrapped: {category}')"
   ]
  },
  {
   "cell_type": "code",
   "execution_count": null,
   "metadata": {},
   "outputs": [],
   "source": [
    "komplett_scrap(links)"
   ]
  }
 ],
 "metadata": {
  "interpreter": {
   "hash": "b0fa6594d8f4cbf19f97940f81e996739fb7646882a419484c72d19e05852a7e"
  },
  "kernelspec": {
   "display_name": "Python 3.9.12 64-bit",
   "language": "python",
   "name": "python3"
  },
  "language_info": {
   "codemirror_mode": {
    "name": "ipython",
    "version": 3
   },
   "file_extension": ".py",
   "mimetype": "text/x-python",
   "name": "python",
   "nbconvert_exporter": "python",
   "pygments_lexer": "ipython3",
   "version": "3.9.12"
  },
  "orig_nbformat": 4
 },
 "nbformat": 4,
 "nbformat_minor": 2
}
